{
 "cells": [
  {
   "cell_type": "markdown",
   "id": "0a3a84d8",
   "metadata": {},
   "source": [
    "# My Jupyter Notebook on IBM Watson Studio"
   ]
  },
  {
   "cell_type": "markdown",
   "id": "89bd4ce2",
   "metadata": {},
   "source": [
    "**NANCY ARMAH**\n",
    "\n",
    "Data Scientist"
   ]
  },
  {
   "cell_type": "markdown",
   "id": "1e118eaa",
   "metadata": {},
   "source": [
    "*I am interested in data science because I love working with data to generate insights. I also love data analysis.*"
   ]
  },
  {
   "cell_type": "markdown",
   "id": "7237775a",
   "metadata": {},
   "source": [
    "### In the cell below we would use the print function to display a message."
   ]
  },
  {
   "cell_type": "code",
   "execution_count": 1,
   "id": "7fb1c08d",
   "metadata": {},
   "outputs": [
    {
     "name": "stdout",
     "output_type": "stream",
     "text": [
      "Learning Data Science is interesting!\n"
     ]
    }
   ],
   "source": [
    "print('Learning Data Science is interesting!')"
   ]
  },
  {
   "cell_type": "markdown",
   "id": "b9ad51cc",
   "metadata": {},
   "source": [
    "| Number | Alphabet |\n",
    "|--------|----------|\n",
    "| 123456 | abcdef   |\n",
    "\n",
    "~~The world spins very fast.~~\n",
    "\n",
    "I love <mark>food</mark>.\n",
    "\n"
   ]
  },
  {
   "cell_type": "code",
   "execution_count": null,
   "id": "eebf8786",
   "metadata": {},
   "outputs": [],
   "source": []
  }
 ],
 "metadata": {
  "kernelspec": {
   "display_name": "Python 3 (ipykernel)",
   "language": "python",
   "name": "python3"
  },
  "language_info": {
   "codemirror_mode": {
    "name": "ipython",
    "version": 3
   },
   "file_extension": ".py",
   "mimetype": "text/x-python",
   "name": "python",
   "nbconvert_exporter": "python",
   "pygments_lexer": "ipython3",
   "version": "3.9.7"
  }
 },
 "nbformat": 4,
 "nbformat_minor": 5
}
